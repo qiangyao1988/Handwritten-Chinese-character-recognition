{
 "cells": [
  {
   "cell_type": "code",
   "execution_count": 1,
   "metadata": {},
   "outputs": [],
   "source": [
    "import os\n",
    "import numpy as np\n",
    "import struct\n",
    "import PIL.Image"
   ]
  },
  {
   "cell_type": "code",
   "execution_count": 2,
   "metadata": {},
   "outputs": [],
   "source": [
    "# data path\n",
    "train_data_dir = \"/dataset/HWDB1.1trn_gnt\"\n",
    "test_data_dir = \"/dataset/HWDB1.1tst_gnt\""
   ]
  },
  {
   "cell_type": "code",
   "execution_count": 3,
   "metadata": {},
   "outputs": [],
   "source": [
    "# 读取图像和对应的汉字\n",
    "def read_from_gnt_dir(gnt_dir=train_data_dir):\n",
    "    def one_file(f):\n",
    "        header_size = 10\n",
    "        while True:\n",
    "            header = np.fromfile(f, dtype='uint8', count=header_size)\n",
    "            if not header.size: break\n",
    "            sample_size = header[0] + (header[1]<<8) + (header[2]<<16) + (header[3]<<24)\n",
    "            tagcode = header[5] + (header[4]<<8)\n",
    "            width = header[6] + (header[7]<<8)\n",
    "            height = header[8] + (header[9]<<8)\n",
    "            if header_size + width*height != sample_size:\n",
    "                break\n",
    "            image = np.fromfile(f, dtype='uint8', count=width*height).reshape((height, width))\n",
    "            yield image, tagcode\n",
    " \n",
    "    for file_name in os.listdir(gnt_dir):\n",
    "        if file_name.endswith('.gnt'):\n",
    "            file_path = os.path.join(gnt_dir, file_name)\n",
    "            with open(file_path, 'rb') as f:\n",
    "                for image, tagcode in one_file(f):\n",
    "                    yield image, tagcode"
   ]
  },
  {
   "cell_type": "code",
   "execution_count": 4,
   "metadata": {},
   "outputs": [],
   "source": [
    "# one hot\n",
    "def convert_to_one_hot(char):\n",
    "    vector = np.zeros(len(char_set))\n",
    "    vector[char_set.index(char)] = 1\n",
    "    return vector"
   ]
  },
  {
   "cell_type": "code",
   "execution_count": 5,
   "metadata": {},
   "outputs": [],
   "source": [
    "def resize_and_normalize_image(img):\n",
    "    # 补方\n",
    "    pad_size = abs(img.shape[0]-img.shape[1]) // 2\n",
    "    if img.shape[0] < img.shape[1]:\n",
    "        pad_dims = ((pad_size, pad_size), (0, 0))\n",
    "    else:\n",
    "        pad_dims = ((0, 0), (pad_size, pad_size))\n",
    "    img = np.lib.pad(img, pad_dims, mode='constant', constant_values=255)\n",
    "    # 缩放\n",
    "    img = scipy.misc.imresize(img, (64 - 4*2, 64 - 4*2))\n",
    "    img = np.lib.pad(img, ((4, 4), (4, 4)), mode='constant', constant_values=255)\n",
    "    assert img.shape == (64, 64)\n",
    " \n",
    "    img = img.flatten()\n",
    "    # 像素值范围-1到1\n",
    "    img = (img - 128) / 128\n",
    "    return img"
   ]
  },
  {
   "cell_type": "code",
   "execution_count": null,
   "metadata": {},
   "outputs": [],
   "source": []
  }
 ],
 "metadata": {
  "kernelspec": {
   "display_name": "Python 3",
   "language": "python",
   "name": "python3"
  },
  "language_info": {
   "codemirror_mode": {
    "name": "ipython",
    "version": 3
   },
   "file_extension": ".py",
   "mimetype": "text/x-python",
   "name": "python",
   "nbconvert_exporter": "python",
   "pygments_lexer": "ipython3",
   "version": "3.6.8"
  }
 },
 "nbformat": 4,
 "nbformat_minor": 2
}
